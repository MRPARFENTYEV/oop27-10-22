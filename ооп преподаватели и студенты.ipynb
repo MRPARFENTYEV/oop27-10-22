{
 "cells": [
  {
   "cell_type": "code",
   "execution_count": 4,
   "metadata": {},
   "outputs": [],
   "source": [
    "    \n",
    "class Mentor:\n",
    "    \n",
    "        def __init__(self,name,surname,courses_attached):\n",
    "                self.name = name\n",
    "                self.surname = surname\n",
    "                self.courses_attached = courses_attached\n",
    "                \n",
    "\n",
    "        \n",
    "\n",
    "\n",
    "\n"
   ]
  },
  {
   "cell_type": "code",
   "execution_count": 5,
   "metadata": {},
   "outputs": [],
   "source": [
    "def get_grade(self, student, course, grade):\n",
    "    if not (grade > 0 and grade <= 10):\n",
    "        print(\"Mark forbidden\")\n",
    "        return\n",
    "\n",
    "    if not (course in student.finished_courses):\n",
    "        print(\"Error: student did not visit this course\")\n",
    "        return\n",
    "\n",
    "    if not (course in self.courses_attached.keys()):\n",
    "        print(\" eror \")\n",
    "        return\n",
    "        self.courses_attached[course].append(grade)\n"
   ]
  },
  {
   "cell_type": "code",
   "execution_count": 25,
   "metadata": {},
   "outputs": [
    {
     "name": "stdout",
     "output_type": "stream",
     "text": [
      "Oleg\n",
      "Bee\n",
      "Python dev\n"
     ]
    }
   ],
   "source": [
    "\n",
    "class Reviewer (Mentor):\n",
    "        def __init__(self,name,surname,courses_attached):\n",
    "                super().__init__(name,surname,courses_attached)\n",
    "\n",
    "oleg = Reviewer( \"Oleg\",\"Bee\",\"Python dev\")\n",
    "\n",
    "\n",
    "print(oleg.name)\n",
    "print(oleg.surname)\n",
    "print(oleg.courses_attached)\n",
    "\n",
    "\n",
    "def get_grade(self, student, course, grade):\n",
    "\n",
    "    if not (grade >0 and grade <=10):\n",
    "            print(\"Mark forbidden\")\n",
    "            return \n",
    "\n",
    "    if not(course in student.finished_courses):\n",
    "            print(\"Error: student did not visit this course\")\n",
    "            return \n",
    "        \n",
    "    if not (course in self.courses_attached.keys()):\n",
    "            print(\" eror \")\n",
    "            return\n",
    "    self.courses_attached[course].append(grade)\n",
    "\n",
    "# Revier получает оценки от студента\n",
    " \n"
   ]
  },
  {
   "cell_type": "code",
   "execution_count": 30,
   "metadata": {},
   "outputs": [
    {
     "name": "stdout",
     "output_type": "stream",
     "text": [
      "Nokila\n"
     ]
    },
    {
     "ename": "TypeError",
     "evalue": "string indices must be integers",
     "output_type": "error",
     "traceback": [
      "\u001b[1;31m---------------------------------------------------------------------------\u001b[0m",
      "\u001b[1;31mTypeError\u001b[0m                                 Traceback (most recent call last)",
      "Cell \u001b[1;32mIn [30], line 31\u001b[0m\n\u001b[0;32m     29\u001b[0m \u001b[38;5;28mprint\u001b[39m(nikola_student\u001b[38;5;241m.\u001b[39mname)\n\u001b[0;32m     30\u001b[0m oleg \u001b[38;5;241m=\u001b[39m Reviewer( \u001b[38;5;124m\"\u001b[39m\u001b[38;5;124mOleg\u001b[39m\u001b[38;5;124m\"\u001b[39m,\u001b[38;5;124m\"\u001b[39m\u001b[38;5;124mBee\u001b[39m\u001b[38;5;124m\"\u001b[39m,\u001b[38;5;124m\"\u001b[39m\u001b[38;5;124mPython dev\u001b[39m\u001b[38;5;124m\"\u001b[39m)\n\u001b[1;32m---> 31\u001b[0m oleg\u001b[38;5;241m.\u001b[39mcourses_attached[\u001b[38;5;124m\"\u001b[39m\u001b[38;5;124mPython dev\u001b[39m\u001b[38;5;124m\"\u001b[39m]   \n\u001b[0;32m     32\u001b[0m nikola_student\u001b[38;5;241m.\u001b[39mget_grade(oleg, \u001b[38;5;124m\"\u001b[39m\u001b[38;5;124mPython dev\u001b[39m\u001b[38;5;124m\"\u001b[39m,\u001b[38;5;241m5\u001b[39m)\n\u001b[0;32m     33\u001b[0m \u001b[38;5;28mprint\u001b[39m(nikola_student\u001b[38;5;241m.\u001b[39mcourses_attached)\n",
      "\u001b[1;31mTypeError\u001b[0m: string indices must be integers"
     ]
    }
   ],
   "source": [
    "class Student:\n",
    "    def __init__(self, name, surname, gender,course_attached):\n",
    "        self.name = name\n",
    "        self.surname = surname\n",
    "        self.gender = gender\n",
    "        self.finished_courses = []\n",
    "        self.courses_in_progress = []\n",
    "        self.grades = {}\n",
    "        self.courses_attached ={}\n",
    "        \n",
    "    def get_grade(self, reviewer, course, grade):\n",
    "        if not (grade >0 and grade <=10):\n",
    "            print(\"Mark forbidden\")\n",
    "            return \n",
    "\n",
    "        if not(course in reviewer.finished_courses):\n",
    "            print(\"Error: student did not visit this course\")\n",
    "            return \n",
    "        \n",
    "        if not (course in self.courses_attached.keys()):\n",
    "            print(\" eror \")\n",
    "            return\n",
    "        self.courses_attached[course].append(grade)\n",
    "\n",
    "\n",
    "nikola_student = Student (\"Nokila\", \"Kurwa\", \"main\",{\"python dev\": []})       \n",
    "        \n",
    "nikola_student = Student(\"Nokila\", \"Kurwa\", \"main\",\"python dev\")\n",
    "print(nikola_student.name)\n",
    "oleg = Reviewer( \"Oleg\",\"Bee\",\"Python dev\")\n",
    "oleg.courses_attached[\"Python dev\"]   \n",
    "nikola_student.get_grade(oleg, \"Python dev\",5)\n",
    "print(nikola_student.courses_attached)\n",
    "        \n",
    "        \n",
    "        # nikola_student = Student(\"Nokila\", \"Kurwa\", {\"Pythoin basics\": []})\n",
    "\n",
    "        # nikola_student.get_grade(nikola_student, \"Pythoin basics\", 9)\n",
    "        # print(nikola_student.finished_courses,9)\n",
    "        # print(nikola_student.name)\n",
    "\n"
   ]
  },
  {
   "cell_type": "code",
   "execution_count": 32,
   "metadata": {},
   "outputs": [
    {
     "name": "stdout",
     "output_type": "stream",
     "text": [
      "{'Pythoin basics': [5, 9, 4]}\n",
      "\n"
     ]
    }
   ],
   "source": [
    "# class Lecturer(Mentor):\n",
    "#      def __init__(self, name, surname, courses_attached):\n",
    "#         super().__init__(name, surname, courses_attached)\n",
    "class Lecturer(Mentor):\n",
    "    \n",
    "\n",
    "    def __init__(self,name,surname,courses_attached,age):\n",
    "        \n",
    "        super().__init__(name,surname,courses_attached)\n",
    "        self.age = age\n",
    "    \n",
    "    def get_grade(self, student, course, grade):\n",
    "        if not (grade >0 and grade <=10):\n",
    "            print(\" poshel naxuy\")\n",
    "            return \n",
    "\n",
    "        if not(course in student.finished_courses):\n",
    "            print(\"Error: student did not visit this course\")\n",
    "            return \n",
    "        \n",
    "        if not (course in self.courses_attached.keys()):\n",
    "            print(\" eror \")\n",
    "            return\n",
    "        self.courses_attached[course].append(grade)\n",
    " \n",
    "        # grade 1-10\n",
    "        # student has to visit this lecture()\n",
    "        # lecturer has to have this lecture (course)\n",
    "        # set grade in course_attached\n",
    "\n",
    "nikita_lecturer = Lecturer(\"Nikita\", \"Psheebanmij\", {\"Pythoin basics\": []}, 36)\n",
    "\n",
    "nikola_student = Student(\"Nokila\", \"Kurwa\", \"ne tvoe ebat delo mraz\",42)\n",
    "nikola_student.finished_courses = [\"Pythoin basics\"]\n",
    "\n",
    "nikita_lecturer.get_grade(nikola_student, \"Pythoin basics\", 5)\n",
    "nikita_lecturer.get_grade(nikola_student, \"Pythoin basics\", 9)\n",
    "nikita_lecturer.get_grade(nikola_student, \"Pythoin basics\", 4)\n",
    "\n",
    "print(nikita_lecturer.courses_attached)\n",
    "print()\n",
    "    "
   ]
  },
  {
   "cell_type": "code",
   "execution_count": 9,
   "metadata": {},
   "outputs": [
    {
     "name": "stdout",
     "output_type": "stream",
     "text": [
      "{'students': []}\n"
     ]
    }
   ],
   "source": [
    "grades = {\"students\":[]}\n",
    "\n",
    "while True:\n",
    "    student_to_add = input(\"Enter student kurwa ...\")\n",
    "    if student_to_add == 'q':\n",
    "        break\n",
    "    grades[\"students\"].append(student_to_add)\n",
    "    \n",
    "\n",
    "print(grades)"
   ]
  },
  {
   "cell_type": "code",
   "execution_count": 10,
   "metadata": {},
   "outputs": [
    {
     "name": "stdout",
     "output_type": "stream",
     "text": [
      "[1, 2, 3, 4]\n"
     ]
    }
   ],
   "source": [
    "slovyar={\"razmery_clenov\":[1,2,3,4]}\n",
    "for keys, values in slovyar.items():\n",
    "    print(values)\n",
    "\n",
    "    # print(len(\"razmery_clenov\"))\n",
    "   \n"
   ]
  },
  {
   "cell_type": "code",
   "execution_count": 11,
   "metadata": {},
   "outputs": [
    {
     "name": "stdout",
     "output_type": "stream",
     "text": [
      "[1, 2, 3, 4, 5, 6, 7]\n",
      "4.0\n"
     ]
    }
   ],
   "source": [
    "clenoland={\"c\":[1,2,3,4,5,6,7]}\n",
    "for x in clenoland:\n",
    "    print(clenoland[x])\n",
    "    mid=sum(clenoland[x])/len(clenoland[x])\n",
    "    print(mid)\n",
    "\n",
    "\n",
    "#Найти способ итерировать значения и сложить их"
   ]
  },
  {
   "cell_type": "code",
   "execution_count": null,
   "metadata": {},
   "outputs": [],
   "source": []
  }
 ],
 "metadata": {
  "kernelspec": {
   "display_name": "Python 3.10.5 64-bit",
   "language": "python",
   "name": "python3"
  },
  "language_info": {
   "codemirror_mode": {
    "name": "ipython",
    "version": 3
   },
   "file_extension": ".py",
   "mimetype": "text/x-python",
   "name": "python",
   "nbconvert_exporter": "python",
   "pygments_lexer": "ipython3",
   "version": "3.10.5"
  },
  "orig_nbformat": 4,
  "vscode": {
   "interpreter": {
    "hash": "4c8f9596289ce0e984631efc41e67aabdfb160e1cf60fb71bac4853a33c02268"
   }
  }
 },
 "nbformat": 4,
 "nbformat_minor": 2
}
